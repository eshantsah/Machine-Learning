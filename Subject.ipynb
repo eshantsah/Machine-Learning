{
 "cells": [
  {
   "cell_type": "markdown",
   "metadata": {},
   "source": [
    "# 1.Find the subject in the following passage\n",
    "[“US President Donald Trump said Iran's Supreme Leader Ayatollah Ali Khamenei should be very careful about what he says after Khamenei harshly criticized the United States in a Friday prayers sermon in Tehran.”\n",
    "]"
   ]
  },
  {
   "cell_type": "code",
   "execution_count": 66,
   "metadata": {},
   "outputs": [],
   "source": [
    "import spacy\n",
    "import en_core_web_sm\n",
    "from spacy import displacy\n",
    "import re\n",
    "\n",
    "nlp = en_core_web_sm.load()\n",
    "def detect_subject(sentence):\n",
    "    cleaned_sentence = preprocessing(sentence)\n",
    "    doc=nlp(cleaned_sentence)\n",
    "\n",
    "    # for token in doc:\n",
    "    #     print (token,  token.pos_,token.dep_)\n",
    "\n",
    "    # displacy.serve(doc, style='dep')\n",
    "    sub_toks = [tok for tok in doc if (tok.dep_ == \"nsubj\") ]\n",
    "\n",
    "    return sub_toks \n",
    "\n",
    "def preprocessing(data):\n",
    "    clean = re.compile('<.*?>')\n",
    "    data = re.sub(clean , \"\" , data)\n",
    "    data = re.sub(r'[’]', \"'\" , data)\n",
    "    data = re.sub(r'[‘]', \"'\" , data)\n",
    "    data = re.sub(r'[“]', ' ' , data)\n",
    "    data = re.sub(r'[”]', ' ' , data)\n",
    "#         data = re.sub(r'[.]', ' ' , data)\n",
    "    data = re.sub(r'[:]', ' ' , data)\n",
    "    if \"'s\" in data:\n",
    "        data = data.replace(\"'s\", '')\n",
    "\n",
    "    return data\n"
   ]
  },
  {
   "cell_type": "code",
   "execution_count": 67,
   "metadata": {},
   "outputs": [
    {
     "data": {
      "text/plain": [
       "[Trump, Khamenei, he, Khamenei]"
      ]
     },
     "execution_count": 67,
     "metadata": {},
     "output_type": "execute_result"
    }
   ],
   "source": [
    "sentence = \"“US President Donald Trump said Iran's Supreme Leader Ayatollah Ali Khamenei should be very careful about what he says after Khamenei harshly criticized the United States in a Friday prayers sermon in Tehran.”\"\n",
    "detect_subject(sentence)"
   ]
  },
  {
   "cell_type": "markdown",
   "metadata": {},
   "source": [
    "# 2.Retrieve the text present in the given image and find the subject in it. "
   ]
  },
  {
   "cell_type": "code",
   "execution_count": 68,
   "metadata": {},
   "outputs": [],
   "source": [
    "import cv2\n",
    "from pytesseract import image_to_string"
   ]
  },
  {
   "cell_type": "code",
   "execution_count": 69,
   "metadata": {},
   "outputs": [],
   "source": [
    "image = cv2.imread(\"western-times.jpg\")\n",
    "text = image_to_string(image)"
   ]
  },
  {
   "cell_type": "code",
   "execution_count": 70,
   "metadata": {},
   "outputs": [],
   "source": [
    "cleaned_text = \"\"\n",
    "for i in pos.split(\"-\\n\"):\n",
    "    cleaned_text = cleaned_text + i\n",
    "cleaned_text = cleaned_text.replace(\"\\n\",\" \")"
   ]
  },
  {
   "cell_type": "code",
   "execution_count": 71,
   "metadata": {},
   "outputs": [
    {
     "data": {
      "text/plain": [
       "[five, police, gunfight, forces, we, We, official]"
      ]
     },
     "execution_count": 71,
     "metadata": {},
     "output_type": "execute_result"
    }
   ],
   "source": [
    "detect_subject(cleaned_text)"
   ]
  },
  {
   "cell_type": "code",
   "execution_count": null,
   "metadata": {},
   "outputs": [],
   "source": []
  },
  {
   "cell_type": "code",
   "execution_count": null,
   "metadata": {},
   "outputs": [],
   "source": []
  },
  {
   "cell_type": "code",
   "execution_count": 55,
   "metadata": {},
   "outputs": [],
   "source": [
    "# .  Find the subject in the following passage\n",
    "\n",
    " \n",
    "\n",
    "# “US President Donald Trump said Iran's Supreme Leader Ayatollah Ali Khamenei should be very careful about what he says after Khamenei harshly criticized the United States in a Friday prayers sermon in Tehran.”\n",
    "\n",
    " \n",
    "\n",
    "# 2.  Convert the given audio to text and find the subject in it.  The audio is available in the following link.\n",
    "\n",
    " \n",
    "\n",
    "# URL: http://vod.timesnowmobile.com/2017/Radio/07/E150917_4_IND_HARYANA_RYAN_MURDER.mp3\n",
    "\n",
    " \n",
    "\n",
    "# 3.  Retrieve the text present in the given image and find the subject in it.  Refer the image in the following link.\n",
    "\n",
    " \n",
    "\n",
    "# URL :  http://www.epapersland.com/images/western-times.jpg\n",
    "\n",
    " "
   ]
  },
  {
   "cell_type": "code",
   "execution_count": 64,
   "metadata": {},
   "outputs": [],
   "source": []
  },
  {
   "cell_type": "code",
   "execution_count": null,
   "metadata": {},
   "outputs": [],
   "source": []
  },
  {
   "cell_type": "code",
   "execution_count": null,
   "metadata": {},
   "outputs": [],
   "source": []
  },
  {
   "cell_type": "code",
   "execution_count": null,
   "metadata": {},
   "outputs": [],
   "source": []
  },
  {
   "cell_type": "code",
   "execution_count": null,
   "metadata": {},
   "outputs": [],
   "source": []
  }
 ],
 "metadata": {
  "kernelspec": {
   "display_name": "Python 3",
   "language": "python",
   "name": "python3"
  },
  "language_info": {
   "codemirror_mode": {
    "name": "ipython",
    "version": 3
   },
   "file_extension": ".py",
   "mimetype": "text/x-python",
   "name": "python",
   "nbconvert_exporter": "python",
   "pygments_lexer": "ipython3",
   "version": "3.6.8"
  }
 },
 "nbformat": 4,
 "nbformat_minor": 2
}
